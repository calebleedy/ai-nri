{
 "cells": [
  {
   "cell_type": "markdown",
   "id": "c8f24de8-5f34-4368-87df-99cc050e9114",
   "metadata": {},
   "source": [
    "# Reproject Coordinates"
   ]
  },
  {
   "cell_type": "code",
   "execution_count": 1,
   "id": "05cbd55a-5dae-41f7-9f43-50ff263b1198",
   "metadata": {},
   "outputs": [],
   "source": [
    "import rasterio\n",
    "from rasterio.warp import reproject, Resampling\n",
    "import numpy as np"
   ]
  },
  {
   "cell_type": "code",
   "execution_count": 2,
   "id": "5c87b746-27c6-4ebc-a573-a7cc50fe6332",
   "metadata": {},
   "outputs": [
    {
     "name": "stderr",
     "output_type": "stream",
     "text": [
      "/tmp/ipykernel_455783/1497279167.py:3: DeprecationWarning: dropping variables using `drop` is deprecated; use drop_vars.\n",
      "  rds = rds.squeeze().drop(\"spatial_ref\").drop(\"band\")\n"
     ]
    },
    {
     "data": {
      "text/html": [
       "<div>\n",
       "<style scoped>\n",
       "    .dataframe tbody tr th:only-of-type {\n",
       "        vertical-align: middle;\n",
       "    }\n",
       "\n",
       "    .dataframe tbody tr th {\n",
       "        vertical-align: top;\n",
       "    }\n",
       "\n",
       "    .dataframe thead th {\n",
       "        text-align: right;\n",
       "    }\n",
       "</style>\n",
       "<table border=\"1\" class=\"dataframe\">\n",
       "  <thead>\n",
       "    <tr style=\"text-align: right;\">\n",
       "      <th></th>\n",
       "      <th>y</th>\n",
       "      <th>x</th>\n",
       "      <th>data</th>\n",
       "    </tr>\n",
       "  </thead>\n",
       "  <tbody>\n",
       "    <tr>\n",
       "      <th>0</th>\n",
       "      <td>3.154472e+06</td>\n",
       "      <td>103887.5875</td>\n",
       "      <td>0</td>\n",
       "    </tr>\n",
       "    <tr>\n",
       "      <th>1</th>\n",
       "      <td>3.154472e+06</td>\n",
       "      <td>103986.0125</td>\n",
       "      <td>0</td>\n",
       "    </tr>\n",
       "  </tbody>\n",
       "</table>\n",
       "</div>"
      ],
      "text/plain": [
       "              y            x  data\n",
       "0  3.154472e+06  103887.5875     0\n",
       "1  3.154472e+06  103986.0125     0"
      ]
     },
     "execution_count": 2,
     "metadata": {},
     "output_type": "execute_result"
    }
   ],
   "source": [
    "import rioxarray\n",
    "rds = rioxarray.open_rasterio(\"data/raw/NLCD_MA_2016.tif\")\n",
    "rds = rds.squeeze().drop_vars(\"spatial_ref\").drop_vars(\"band\")\n",
    "rds.name = \"data\"\n",
    "res = rds.to_dataframe().reset_index()\n",
    "res.head(2)"
   ]
  },
  {
   "cell_type": "code",
   "execution_count": 8,
   "id": "3f76ae65-223d-441a-8d8c-713fdc0a56c4",
   "metadata": {},
   "outputs": [
    {
     "data": {
      "text/plain": [
       "[(103887.58749999998, 3154472.0374999996),\n",
       " (103986.01249999998, 3154472.0374999996)]"
      ]
     },
     "execution_count": 8,
     "metadata": {},
     "output_type": "execute_result"
    }
   ],
   "source": [
    "[(x,y) for (x, y) in zip(list(res[\"x\"][0:2]), list(res[\"y\"][0:2]))]"
   ]
  },
  {
   "cell_type": "code",
   "execution_count": 11,
   "id": "b299470d-0a15-432c-bf18-4d5a61b89de5",
   "metadata": {},
   "outputs": [
    {
     "data": {
      "text/plain": [
       "[(42.885686939656495, -73.56073276411749),\n",
       " (42.88569346255544, -73.5603656513047)]"
      ]
     },
     "execution_count": 11,
     "metadata": {},
     "output_type": "execute_result"
    }
   ],
   "source": [
    "from pyproj import Transformer\n",
    "with rasterio.open(\"data/raw/NLCD_MA_2016.tif\") as dataset:\n",
    "    examples = [(x,y) for (x, y) in zip(list(res[\"x\"][0:2]), list(res[\"y\"][0:2]))]\n",
    "    transformer = Transformer.from_crs(dataset.crs, \"epsg:4326\")\n",
    "    coords = [transformer.transform(x, y) for x,y in examples]\n",
    "coords"
   ]
  },
  {
   "cell_type": "code",
   "execution_count": 2,
   "id": "8dbd9901-090a-4bc5-a209-f16b863b8daf",
   "metadata": {},
   "outputs": [],
   "source": [
    "def reproject_tif_to_latlon(input_tif_path, output_tif_path, target_crs='EPSG:4326'):\n",
    "    \"\"\"\n",
    "    Reprojects a TIFF file to a target Coordinate Reference System (CRS),\n",
    "    typically WGS84 (latitude and longitude).\n",
    "\n",
    "    Args:\n",
    "        input_tif_path (str): Path to the input TIFF file.\n",
    "        output_tif_path (str): Path where the reprojected TIFF will be saved.\n",
    "        target_crs (str): The target CRS in a format recognized by rasterio (e.g., 'EPSG:4326').\n",
    "                          Default is WGS84 Lat/Lon.\n",
    "    \"\"\"\n",
    "    try:\n",
    "        with rasterio.open(input_tif_path) as src:\n",
    "            # Check if source CRS is already the target CRS\n",
    "            if src.crs == target_crs:\n",
    "                print(f\"Input TIFF '{input_tif_path}' is already in {target_crs}. Skipping re-projection.\")\n",
    "                return\n",
    "\n",
    "            print(f\"Reprojecting '{input_tif_path}' from {src.crs} to {target_crs}...\")\n",
    "\n",
    "            # Define the target resolution. This is important for reprojection.\n",
    "            # You might want to define this based on your data or desired output.\n",
    "            # For geographic CRS, resolution is in degrees. A common rough estimate might be:\n",
    "            # (src.res[0] / meters_per_degree_at_equator_approx) or determine new_transform based on desired pixel size in degrees.\n",
    "            # For simplicity, we'll let reproject calculate the new transform and resolution.\n",
    "            # You can explicitly set new_transform and new_width/new_height if you need specific output grid.\n",
    "\n",
    "            # Determine the new profile for the output TIFF\n",
    "            # Start with a copy of the source profile\n",
    "            profile = src.profile\n",
    "            profile.update({\n",
    "                'crs': target_crs,\n",
    "                'transform': src.transform, # Will be updated by reproject\n",
    "                'width': src.width,         # Will be updated by reproject\n",
    "                'height': src.height,       # Will be updated by reproject\n",
    "                'compress': 'lzw' # Optional: add compression for smaller file size\n",
    "            })\n",
    "\n",
    "            # Calculate the new transform and dimensions needed for the target CRS\n",
    "            # This is critical for getting correct output extent and resolution\n",
    "            destination, transform_out = reproject(\n",
    "                source=rasterio.band(src, 1), # Reprojecting the first band\n",
    "                destination=np.empty((src.height, src.width), dtype=src.dtype), # Placeholder array for output\n",
    "                src_transform=src.transform,\n",
    "                src_crs=src.crs,\n",
    "                dst_transform=src.transform, # This will be adjusted by reproject\n",
    "                dst_crs=target_crs,\n",
    "                resampling=Resampling.nearest # Or Resampling.bilinear, Resampling.cubic, etc.\n",
    "            )\n",
    "            \n",
    "            # Update the profile with the calculated transform and dimensions\n",
    "            profile['transform'] = transform_out\n",
    "            profile['width'] = destination.shape[1] # New width\n",
    "            profile['height'] = destination.shape[0] # New height\n",
    "\n",
    "            # Write the reprojected data to the new TIFF file\n",
    "            with rasterio.open(output_tif_path, 'w', **profile) as dst:\n",
    "                reproject(\n",
    "                    source=rasterio.band(src, 1),  # The source band (can be multiple bands)\n",
    "                    destination=rasterio.band(dst, 1), # The destination band\n",
    "                    src_transform=src.transform,\n",
    "                    src_crs=src.crs,\n",
    "                    dst_transform=profile['transform'], # Use the calculated transform\n",
    "                    dst_crs=target_crs,\n",
    "                    resampling=Resampling.nearest, # Resampling method\n",
    "                    num_threads=2 # Optional: for multiprocessing if needed\n",
    "                )\n",
    "            \n",
    "            print(f\"Successfully reprojected and saved to '{output_tif_path}'.\")\n",
    "\n",
    "    except rasterio.errors.RasterioIOError as e:\n",
    "        print(f\"Error accessing TIFF file: {e}\")\n",
    "        print(\"Please ensure the input file path is correct and the file is a valid TIFF.\")\n",
    "    except Exception as e:\n",
    "        print(f\"An unexpected error occurred: {e}\")"
   ]
  },
  {
   "cell_type": "code",
   "execution_count": 3,
   "id": "e1db6256-6e62-4a6f-a017-3edfa4135b85",
   "metadata": {},
   "outputs": [
    {
     "name": "stdout",
     "output_type": "stream",
     "text": [
      "Reprojecting 'data/raw/NLCD_MA_2016.tif' from EPSG:2249 to EPSG:4326...\n",
      "An unexpected error occurred: 'DatasetReader' object has no attribute 'dtype'\n"
     ]
    }
   ],
   "source": [
    "input_file = 'data/raw/NLCD_MA_2016.tif'\n",
    "output_file = 'data/clean/NLCD_MA_2016_WGS84.tif'\n",
    "reproject_tif_to_latlon(input_file, output_file)"
   ]
  },
  {
   "cell_type": "code",
   "execution_count": null,
   "id": "cdd481d7-fb92-447b-8381-6373e0c19d37",
   "metadata": {},
   "outputs": [],
   "source": [
    "# --- Example Usage ---\n",
    "\n",
    "# 1. Create a dummy TIFF file with a Projected CRS (e.g., UTM Zone 18N, EPSG:32618)\n",
    "#    This will be our input file for reprojection.\n",
    "def create_dummy_utm_tif(filename, rows, cols):\n",
    "    dummy_data = np.random.randint(0, 256, size=(rows, cols), dtype=np.uint8)\n",
    "    utm_crs = \"EPSG:32618\" # WGS 84 / UTM zone 18N\n",
    "    # Example transform: origin at (300000, 5000000) UTM, pixel resolution 10x10 meters\n",
    "    utm_transform = rasterio.transform.from_origin(300000, 5000000, 10, 10)\n",
    "    profile = {\n",
    "        'driver': 'GTiff',\n",
    "        'height': rows,\n",
    "        'width': cols,\n",
    "        'count': 1,\n",
    "        'dtype': dummy_data.dtype,\n",
    "        'crs': utm_crs,\n",
    "        'transform': utm_transform,\n",
    "    }\n",
    "    with rasterio.open(filename, 'w', **profile) as dst:\n",
    "        dst.write(dummy_data, 1)\n",
    "    print(f\"Dummy input TIFF '{filename}' created successfully with CRS {utm_crs}.\")\n",
    "\n",
    "try:\n",
    "    input_file = 'input_utm.tif'\n",
    "    output_file = 'output_latlon.tif'\n",
    "    dummy_rows, dummy_cols = 500, 500 # A reasonable size for demonstration\n",
    "\n",
    "    create_dummy_utm_tif(input_file, dummy_rows, dummy_cols)\n",
    "\n",
    "    # Perform the reprojection\n",
    "    reproject_tif_to_latlon(input_file, output_file)\n",
    "\n",
    "    # Optional: Verify the output file's CRS\n",
    "    with rasterio.open(output_file) as reprojected_src:\n",
    "        print(f\"\\nVerification: Reprojected file CRS is {reprojected_src.crs}\")\n",
    "        print(f\"Reprojected file dimensions: {reprojected_src.height} rows, {reprojected_src.width} columns\")\n",
    "        print(f\"Reprojected file transform:\\n{reprojected_src.transform}\")\n",
    "\n",
    "except ImportError:\n",
    "    print(\"\\nERROR: Please install 'rasterio' and 'numpy'.\")\n",
    "    print(\"You can install them using: pip install rasterio numpy\")\n",
    "except Exception as e:\n",
    "    \n",
    "    print(f\"\\nAn unexpected error occurred during reprojection process: {e}\")"
   ]
  },
  {
   "cell_type": "code",
   "execution_count": 12,
   "id": "28fb602d-eb1d-43cf-b996-b13c30c1ce57",
   "metadata": {},
   "outputs": [
    {
     "name": "stdout",
     "output_type": "stream",
     "text": [
      "Original DataFrame:\n",
      "    X  Y\n",
      "0  10  1\n",
      "1  20  2\n",
      "2  30  3\n",
      "3  40  4\n",
      "------------------------------\n",
      "\n",
      "DataFrame after adding Z and W columns:\n",
      "    X  Y   Z    W\n",
      "0  10  1  11   10\n",
      "1  20  2  22   40\n",
      "2  30  3  33   90\n",
      "3  40  4  44  160\n",
      "------------------------------\n",
      "\n",
      "DataFrame using Method B (iterrows and list append):\n",
      "    X  Y   Z    W\n",
      "0  10  1  11   10\n",
      "1  20  2  22   40\n",
      "2  30  3  33   90\n",
      "3  40  4  44  160\n",
      "------------------------------\n"
     ]
    }
   ],
   "source": [
    "import pandas as pd\n",
    "\n",
    "# 1. Define your sample DataFrame\n",
    "data = {\n",
    "    'X': [10, 20, 30, 40],\n",
    "    'Y': [1, 2, 3, 4]\n",
    "}\n",
    "df = pd.DataFrame(data)\n",
    "\n",
    "print(\"Original DataFrame:\")\n",
    "print(df)\n",
    "print(\"-\" * 30)\n",
    "\n",
    "# 2. Define your function f that takes X and Y and outputs Z and W\n",
    "def f(x_val, y_val):\n",
    "    \"\"\"\n",
    "    Sample function that takes two inputs and returns two outputs.\n",
    "    For demonstration, Z = X + Y and W = X * Y.\n",
    "    \"\"\"\n",
    "    z_output = x_val + y_val\n",
    "    w_output = x_val * y_val\n",
    "    return z_output, w_output\n",
    "\n",
    "# 3. Apply the function to the DataFrame rows and add results as new columns\n",
    "\n",
    "# Method A: Using apply with a lambda function and unpacking the result\n",
    "# This is often the most concise way when the function returns a tuple/list\n",
    "df[['Z', 'W']] = df.apply(lambda row: f(row['X'], row['Y']), axis=1, result_type='expand')\n",
    "\n",
    "# Explanation of parameters:\n",
    "# - lambda row: f(row['X'], row['Y']): This is a small anonymous function\n",
    "#   that takes a 'row' (which is a Series for each row of the DataFrame).\n",
    "#   It accesses the 'X' and 'Y' values from that row and passes them to function f.\n",
    "# - axis=1: Tells `apply` to iterate over DataFrame rows (i.e., apply the function row-wise).\n",
    "# - result_type='expand': This is crucial when your function returns multiple values\n",
    "#   (like a tuple or list). It expands these results into separate columns.\n",
    "#   Without 'expand', it would try to put the (Z, W) tuple into a single column.\n",
    "# - df[['Z', 'W']]: Assigns the two expanded results directly to new columns named 'Z' and 'W'.\n",
    "\n",
    "\n",
    "print(\"\\nDataFrame after adding Z and W columns:\")\n",
    "print(df)\n",
    "print(\"-\" * 30)\n",
    "\n",
    "# Method B (Alternative): If you prefer using .loc or explicit list comprehension\n",
    "# This method can be less performant for very large DataFrames than Method A.\n",
    "# However, it might be more readable for some, or useful if you're not expanding.\n",
    "\n",
    "# Recreate original DataFrame for demonstration of Method B\n",
    "df_b = pd.DataFrame(data)\n",
    "z_results = []\n",
    "w_results = []\n",
    "\n",
    "for index, row in df_b.iterrows():\n",
    "    z_val, w_val = f(row['X'], row['Y'])\n",
    "    z_results.append(z_val)\n",
    "    w_results.append(w_val)\n",
    "\n",
    "df_b['Z'] = z_results\n",
    "df_b['W'] = w_results\n",
    "\n",
    "print(\"\\nDataFrame using Method B (iterrows and list append):\")\n",
    "print(df_b)\n",
    "print(\"-\" * 30)"
   ]
  },
  {
   "cell_type": "code",
   "execution_count": 16,
   "id": "36ffa66a-eee4-48aa-b446-8f124fca6d38",
   "metadata": {},
   "outputs": [
    {
     "data": {
      "text/plain": [
       "(array([0, 1, 2, 3, 4, 5]), array([0, 1, 2, 3, 4, 5]))"
      ]
     },
     "execution_count": 16,
     "metadata": {},
     "output_type": "execute_result"
    }
   ],
   "source": [
    "row_ind = np.arange(6)\n",
    "col_ind = np.arange(6)\n",
    "row_ind, col_ind"
   ]
  },
  {
   "cell_type": "code",
   "execution_count": 20,
   "id": "d252dd8d-dfc0-4410-9131-0c27cde6d6c1",
   "metadata": {},
   "outputs": [
    {
     "data": {
      "text/plain": [
       "array([4, 0, 2, 1, 5, 3])"
      ]
     },
     "execution_count": 20,
     "metadata": {},
     "output_type": "execute_result"
    }
   ],
   "source": [
    "import random\n",
    "random.shuffle(col_ind)\n",
    "col_ind"
   ]
  }
 ],
 "metadata": {
  "kernelspec": {
   "display_name": "Python 3 (ipykernel)",
   "language": "python",
   "name": "python3"
  },
  "language_info": {
   "codemirror_mode": {
    "name": "ipython",
    "version": 3
   },
   "file_extension": ".py",
   "mimetype": "text/x-python",
   "name": "python",
   "nbconvert_exporter": "python",
   "pygments_lexer": "ipython3",
   "version": "3.13.4"
  }
 },
 "nbformat": 4,
 "nbformat_minor": 5
}
