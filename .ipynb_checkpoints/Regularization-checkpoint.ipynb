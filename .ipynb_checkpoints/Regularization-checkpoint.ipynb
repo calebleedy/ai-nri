{
 "cells": [
  {
   "cell_type": "markdown",
   "id": "94f3c881-a5c6-4f0a-96fe-1e18e6b09efc",
   "metadata": {},
   "source": [
    "# Regularization"
   ]
  },
  {
   "cell_type": "code",
   "execution_count": 12,
   "id": "7e1b09b3-211e-4d46-a5e2-a543d03799fc",
   "metadata": {},
   "outputs": [],
   "source": [
    "import numpy as np\n",
    "import matplotlib.pyplot as plt\n",
    "from sklearn.linear_model import LinearRegression\n",
    "from sklearn.preprocessing import PolynomialFeatures"
   ]
  },
  {
   "cell_type": "markdown",
   "id": "1d032490-ee3b-4f1b-9dd7-fea6c0ed35a5",
   "metadata": {},
   "source": [
    "## Generate Data"
   ]
  },
  {
   "cell_type": "code",
   "execution_count": 10,
   "id": "4efb0189-0997-47e8-8127-7f99ecdabae6",
   "metadata": {},
   "outputs": [],
   "source": [
    "np.random.seed(1)\n",
    "nsamp = 5\n",
    "xvec = np.linspace(1, nsamp, nsamp)\n",
    "eps = np.random.normal(0, 1, nsamp)\n",
    "yvec = xvec + eps"
   ]
  },
  {
   "cell_type": "code",
   "execution_count": 11,
   "id": "34e6a34e-81a2-473a-8882-0969911a4980",
   "metadata": {},
   "outputs": [
    {
     "data": {
      "image/png": "[encoded data removed]",
      "text/plain": [
       "<Figure size 640x480 with 1 Axes>"
      ]
     },
     "metadata": {},
     "output_type": "display_data"
    }
   ],
   "source": [
    "fig, ax = plt.subplots()\n",
    "ax.scatter(xvec, yvec)\n",
    "plt.show()"
   ]
  },
  {
   "cell_type": "markdown",
   "id": "2198d2fb-88a7-4482-8fb8-f2c12c3495ab",
   "metadata": {},
   "source": [
    "## Estimate Models"
   ]
  },
  {
   "cell_type": "code",
   "execution_count": 19,
   "id": "3c5d1ad2-fbdb-4c1b-bc91-d40c4cbef542",
   "metadata": {},
   "outputs": [],
   "source": [
    "xmat = np.array(xvec).reshape(-1, 1)\n",
    "ymat = np.array(yvec)\n",
    "\n",
    "# Linear\n",
    "xlin = PolynomialFeatures(degree=1, include_bias=True).fit_transform(xmat)\n",
    "\n",
    "# Quadratic\n",
    "xquad = PolynomialFeatures(degree=2, include_bias=True).fit_transform(xmat)\n",
    "\n",
    "# Cubic\n",
    "xcub = PolynomialFeatures(degree=3, include_bias=True).fit_transform(xmat)\n",
    "\n",
    "# Quartic\n",
    "xquar = PolynomialFeatures(degree=4, include_bias=True).fit_transform(xmat)\n",
    "\n",
    "# Quintic\n",
    "xquin = PolynomialFeatures(degree=5, include_bias=True).fit_transform(xmat)"
   ]
  },
  {
   "cell_type": "code",
   "execution_count": 22,
   "id": "e6d7d3d7-f5d5-41a2-87f2-ceca6431ceab",
   "metadata": {},
   "outputs": [],
   "source": [
    "modlin = LinearRegression().fit(xlin, ymat)\n",
    "modquad = LinearRegression().fit(xquad, ymat)\n",
    "modcub = LinearRegression().fit(xcub, ymat)\n",
    "modquar = LinearRegression().fit(xquar, ymat)\n",
    "modquin = LinearRegression().fit(xquin, ymat)"
   ]
  },
  {
   "cell_type": "code",
   "execution_count": null,
   "id": "a71c253d-3f1d-4083-b709-7aff7f996079",
   "metadata": {},
   "outputs": [],
   "source": [
    "predvec = np.linspace(1, nsamp, nsamp * 1000)\n",
    "predmat = np.array(predvec).reshape(-1, 1)\n",
    "predlin = PolynomialFeatures(degree=1, include_bias=True).fit_transform(predmat)\n",
    "predquad = PolynomialFeatures(degree=2, include_bias=True).fit_transform(predmat)\n",
    "predcub = PolynomialFeatures(degree=3, include_bias=True).fit_transform(predmat)\n",
    "predquar = PolynomialFeatures(degree=4, include_bias=True).fit_transform(predmat)\n",
    "predquin = PolynomialFeatures(degree=5, include_bias=True).fit_transform(predmat)\n",
    "modlin.predict"
   ]
  }
 ],
 "metadata": {
  "kernelspec": {
   "display_name": "Python 3 (ipykernel)",
   "language": "python",
   "name": "python3"
  },
  "language_info": {
   "codemirror_mode": {
    "name": "ipython",
    "version": 3
   },
   "file_extension": ".py",
   "mimetype": "text/x-python",
   "name": "python",
   "nbconvert_exporter": "python",
   "pygments_lexer": "ipython3",
   "version": "3.13.3"
  }
 },
 "nbformat": 4,
 "nbformat_minor": 5
}
